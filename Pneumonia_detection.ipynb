{
  "nbformat": 4,
  "nbformat_minor": 0,
  "metadata": {
    "kernelspec": {
      "display_name": "Python 3",
      "language": "python",
      "name": "python3"
    },
    "language_info": {
      "codemirror_mode": {
        "name": "ipython",
        "version": 3
      },
      "file_extension": ".py",
      "mimetype": "text/x-python",
      "name": "python",
      "nbconvert_exporter": "python",
      "pygments_lexer": "ipython3",
      "version": "3.7.4"
    },
    "colab": {
      "name": "Pneumonia_detection.ipynb",
      "provenance": [],
      "collapsed_sections": [],
      "include_colab_link": true
    }
  },
  "cells": [
    {
      "cell_type": "markdown",
      "metadata": {
        "id": "view-in-github",
        "colab_type": "text"
      },
      "source": [
        "<a href=\"https://colab.research.google.com/github/Yoshibansal/Pneumonia_detection/blob/main/Pneumonia_detection.ipynb\" target=\"_parent\"><img src=\"https://colab.research.google.com/assets/colab-badge.svg\" alt=\"Open In Colab\"/></a>"
      ]
    },
    {
      "cell_type": "markdown",
      "metadata": {
        "id": "S3lCdkUU-Yhb"
      },
      "source": [
        "\n",
        "Download dataset from link below\n",
        "\n",
        "https://www.kaggle.com/paultimothymooney/chest-xray-pneumonia"
      ]
    },
    {
      "cell_type": "markdown",
      "metadata": {
        "id": "dQtviowuz83b"
      },
      "source": [
        "###Importing libraries"
      ]
    },
    {
      "cell_type": "code",
      "metadata": {
        "id": "OHZVcdI1xNt5",
        "outputId": "54025334-2672-4b7e-d1c4-7eaec143710f",
        "colab": {
          "base_uri": "https://localhost:8080/"
        }
      },
      "source": [
        "import numpy as np\n",
        "import tensorflow as tf\n",
        "from tensorflow import keras\n",
        "\n",
        "#Install tensorflow and numpy if not installed by:-\n",
        "\n",
        "'''\n",
        "!pip install numpy\n",
        "!pip install keras\n",
        "!pip install tensorflow\n",
        "\n",
        "or\n",
        "\n",
        "pip install numpy\n",
        "pip install keras\n",
        "pip install tensorflow\n",
        "'''\n",
        "\n",
        "#check version\n",
        "print(tf.__version__) #recommended version -> 2.X"
      ],
      "execution_count": 4,
      "outputs": [
        {
          "output_type": "stream",
          "text": [
            "2.3.0\n"
          ],
          "name": "stdout"
        }
      ]
    },
    {
      "cell_type": "markdown",
      "metadata": {
        "id": "R-gLx6aX0Cvm"
      },
      "source": [
        "###Data preprocessing"
      ]
    },
    {
      "cell_type": "code",
      "metadata": {
        "id": "IssiecTlxNuA"
      },
      "source": [
        "train_dir = 'chest_xray/train'  #path to the training dataset\n",
        "validation_dir = 'chest_xray/test'  #path to the test dataset\n",
        "test_dir = 'chest_xray/val' #path to the validation dataset"
      ],
      "execution_count": null,
      "outputs": []
    },
    {
      "cell_type": "code",
      "metadata": {
        "id": "6rK_1fhwxNuI",
        "outputId": "d26f986c-5df1-492c-e393-d42987316b2c"
      },
      "source": [
        "from tensorflow.keras.preprocessing.image import ImageDataGenerator\n",
        "\n",
        "IMAGE_SIZE = (150, 150)\n",
        "BATCH_SIZE = 32\n",
        "\n",
        "train_datagen = ImageDataGenerator(rescale=1./255\n",
        "                                      ##    '''DATA AUGMENTATION TECHNIQUES'''   ##\n",
        "#                                     rotation_range=10,\n",
        "#                                     zoom_range = 0.1,\n",
        "#                                     width_shift_range=0.1,\n",
        "#                                     height_shift_range=0.1\n",
        "                                  )\n",
        "\n",
        "train_generator = train_datagen.flow_from_directory(\n",
        "    train_dir,   #path to the training dataset\n",
        "    target_size = IMAGE_SIZE,\n",
        "    batch_size = BATCH_SIZE, \n",
        "    class_mode ='binary')  #binary.. since we have two classes only\n",
        "\n",
        "validation_datagen = ImageDataGenerator(rescale=1./255)\n",
        "validation_generator = validation_datagen.flow_from_directory(\n",
        "    validation_dir,\n",
        "    target_size = IMAGE_SIZE,\n",
        "    batch_size = BATCH_SIZE,\n",
        "    class_mode='binary')\n",
        "\n",
        "test_datagen = ImageDataGenerator(rescale=1./255)\n",
        "test_generator = test_datagen.flow_from_directory(\n",
        "    test_dir,\n",
        "    target_size = IMAGE_SIZE,\n",
        "    batch_size=8,\n",
        "    class_mode='binary')\n"
      ],
      "execution_count": null,
      "outputs": [
        {
          "output_type": "stream",
          "text": [
            "Found 5216 images belonging to 2 classes.\n",
            "Found 624 images belonging to 2 classes.\n",
            "Found 16 images belonging to 2 classes.\n"
          ],
          "name": "stdout"
        }
      ]
    },
    {
      "cell_type": "markdown",
      "metadata": {
        "id": "DsJ47uGu1Adp"
      },
      "source": [
        "Learn more: -\n",
        "ImageDataGenerator -> https://www.tensorflow.org/api_docs/python/tf/keras/preprocessing/image/ImageDataGenerator"
      ]
    },
    {
      "cell_type": "markdown",
      "metadata": {
        "id": "rUKux2VM1IF8"
      },
      "source": [
        "###Model architecture\n",
        "\n",
        "Sequential model having several convolutional layers followed by maxpooling layers and at the end some fully connected layers (Dense layers).\n",
        "\n",
        "Activation function -> used \"relu\" in conv layers and \"sigmoid\" for last layer.\n",
        "\n",
        "Used Dropout for regularization"
      ]
    },
    {
      "cell_type": "code",
      "metadata": {
        "id": "1RY59d0oxNuM"
      },
      "source": [
        "INPUT_SHAPE = IMAGE_SIZE + (3,)\n",
        "\n",
        "\n",
        "model = tf.keras.models.Sequential([\n",
        "                                    \n",
        "    tf.keras.layers.Conv2D(32, (3, 3), activation='relu', input_shape=INPUT_SHAPE, padding=\"same\"),\n",
        "    \n",
        "    tf.keras.layers.MaxPool2D(2, 2),\n",
        "    \n",
        "    tf.keras.layers.Dropout(0.5),\n",
        "    \n",
        "    tf.keras.layers.Conv2D(64, (3, 3), activation='relu', padding=\"same\"), #tf.nn.leaky_relu(alpha=0.2)\n",
        "    \n",
        "    tf.keras.layers.MaxPool2D(2, 2),\n",
        "    \n",
        "    tf.keras.layers.Flatten(),\n",
        "    \n",
        "    tf.keras.layers.Dropout(0.5),\n",
        "    \n",
        "    tf.keras.layers.Dense(256, activation='relu'),# kernel_regularizer=keras.regularizers.l1_l2(0.01)),\n",
        "    \n",
        "    tf.keras.layers.Dropout(0.2),\n",
        "    \n",
        "    tf.keras.layers.Dense(1, activation='sigmoid')\n",
        "])\n",
        "\n",
        "# learning_rate = 1e-4\n",
        "\n",
        "# model.compile(\n",
        "#     loss='binary_crossentropy',\n",
        "#     optimizer=tf.keras.optimizers.RMSprop(lr = learning_rate),#'adam'\n",
        "#     metrics=['accuracy'])\n",
        "\n",
        "print(model.summary())   #This will print the summary of the model"
      ],
      "execution_count": null,
      "outputs": []
    },
    {
      "cell_type": "markdown",
      "metadata": {
        "id": "ttnoxjAA47CH"
      },
      "source": [
        "###Finding Optimal learning rate"
      ]
    },
    {
      "cell_type": "code",
      "metadata": {
        "id": "ssgcVRRGxNuP",
        "outputId": "8cf3d1ab-4f12-4ecb-d665-ab70292a0838"
      },
      "source": [
        "lr_schedule = tf.keras.callbacks.LearningRateScheduler(\n",
        "    lambda epoch: 1e-8 * 10**(epoch))\n",
        "\n",
        "optimizer = tf.keras.optimizers.Adam(lr=1e-6, beta_1=0.9, beta_2=0.999, epsilon=1e-08)\n",
        "\n",
        "model.compile(\n",
        "    loss='binary_crossentropy', \n",
        "    optimizer=optimizer, \n",
        "    metrics=['accuracy'])\n",
        "\n",
        "STEPS_PER_EPOCH = 5216//BATCH_SIZE\n",
        "VALIDATION_STEPS = 624//BATCH_SIZE\n",
        "\n",
        "history = model.fit(train_generator, \n",
        "                    epochs=6,\n",
        "                    steps_per_epoch = STEPS_PER_EPOCH,\n",
        "                    callbacks=[lr_schedule], \n",
        "                    validation_data = validation_generator,\n",
        "                    validation_steps = VALIDATION_STEPS,  \n",
        "                    verbose=1)\n",
        "\n",
        "#This is to find the optimal learning rate for this data.\n",
        "#This makes tunning \"learning rate\" hyperparameter easy."
      ],
      "execution_count": null,
      "outputs": [
        {
          "output_type": "stream",
          "text": [
            "Epoch 1/6\n",
            "163/163 [==============================] - 195s 1s/step - loss: 0.8645 - accuracy: 0.3260 - val_loss: 0.6989 - val_accuracy: 0.4359\n",
            "Epoch 2/6\n",
            "163/163 [==============================] - 170s 1s/step - loss: 0.7016 - accuracy: 0.5442 - val_loss: 0.6670 - val_accuracy: 0.6283\n",
            "Epoch 3/6\n",
            "163/163 [==============================] - 153s 939ms/step - loss: 0.5776 - accuracy: 0.7335 - val_loss: 0.6495 - val_accuracy: 0.6217\n",
            "Epoch 4/6\n",
            "163/163 [==============================] - 154s 945ms/step - loss: 0.4636 - accuracy: 0.7915 - val_loss: 0.5051 - val_accuracy: 0.7961\n",
            "Epoch 5/6\n",
            "163/163 [==============================] - 162s 994ms/step - loss: 0.3259 - accuracy: 0.8708 - val_loss: 0.5928 - val_accuracy: 0.6661\n",
            "Epoch 6/6\n",
            "163/163 [==============================] - 155s 946ms/step - loss: 0.7316 - accuracy: 0.7909 - val_loss: 0.6651 - val_accuracy: 0.7467\n"
          ],
          "name": "stdout"
        }
      ]
    },
    {
      "cell_type": "markdown",
      "metadata": {
        "id": "p37naoQv5D6r"
      },
      "source": [
        "Learn more: -\n",
        "\n",
        "callbacks.LearningRateScheduler \n",
        "https://keras.io/api/callbacks/learning_rate_scheduler/"
      ]
    },
    {
      "cell_type": "code",
      "metadata": {
        "id": "I_TTUfN5xNuT",
        "outputId": "24e77b99-1904-40d1-9d72-89d5617bb3e6"
      },
      "source": [
        "#plotting loss\n",
        "import matplotlib.pyplot as plt\n",
        "lrs = 1e-8 * (10 ** (np.arange(6)))\n",
        "plt.semilogx(lrs, history.history[\"loss\"])\n",
        "plt.axis([1e-8, 1e-2, 0, 2])\n",
        "\n",
        "#In the graph you can see that 1e-4 (0.0001) is the optimal learning rate"
      ],
      "execution_count": null,
      "outputs": [
        {
          "output_type": "execute_result",
          "data": {
            "text/plain": [
              "[1e-08, 0.01, 0, 2]"
            ]
          },
          "metadata": {
            "tags": []
          },
          "execution_count": 8
        },
        {
          "output_type": "display_data",
          "data": {
            "image/png": "[encoded data removed]",
            "text/plain": [
              "<Figure size 432x288 with 1 Axes>"
            ]
          },
          "metadata": {
            "tags": [],
            "needs_background": "light"
          }
        }
      ]
    },
    {
      "cell_type": "code",
      "metadata": {
        "id": "p6X5TIG0xNuX",
        "outputId": "278aae46-5cb8-4269-b324-a9d2bf7b7a3d"
      },
      "source": [
        "#plotting accuracy\n",
        "lrs = 1e-8 * (10 ** (np.arange(6)))\n",
        "plt.semilogx(lrs, history.history[\"accuracy\"])\n",
        "plt.axis([1e-8, 1e-2, 0, 2])\n",
        "\n",
        "#Loking at the graph you can easily conclude the best learning rate for greater accuracy"
      ],
      "execution_count": null,
      "outputs": [
        {
          "output_type": "execute_result",
          "data": {
            "text/plain": [
              "[1e-08, 0.01, 0, 2]"
            ]
          },
          "metadata": {
            "tags": []
          },
          "execution_count": 11
        },
        {
          "output_type": "display_data",
          "data": {
            "image/png": "[encoded data removed]",
            "text/plain": [
              "<Figure size 432x288 with 1 Axes>"
            ]
          },
          "metadata": {
            "tags": [],
            "needs_background": "light"
          }
        }
      ]
    },
    {
      "cell_type": "markdown",
      "metadata": {
        "id": "mWnBYaf_7NHa"
      },
      "source": [
        "###Compiling and Training model"
      ]
    },
    {
      "cell_type": "code",
      "metadata": {
        "id": "atoEMmFmxNua"
      },
      "source": [
        "#now we have tunned learning rate (found the best learning rate) for given task\n",
        "#Let's train the model\n",
        "\n",
        "learning_rate = 1e-4\n",
        "optimizer = tf.keras.optimizers.Adam(lr = learning_rate, beta_1=0.9, beta_2=0.999, epsilon=1e-08)\n",
        "\n",
        "model.compile(\n",
        "    loss='binary_crossentropy',\n",
        "    optimizer=optimizer,\n",
        "    metrics=['accuracy'])"
      ],
      "execution_count": null,
      "outputs": []
    },
    {
      "cell_type": "code",
      "metadata": {
        "id": "_30i2S0bxNud",
        "outputId": "2ff78aad-1f7d-44a7-a644-95df26be415e"
      },
      "source": [
        "STEPS_PER_EPOCH = 5216//BATCH_SIZE\n",
        "VALIDATION_STEPS = 624//BATCH_SIZE\n",
        "EPOCHS = 5\n",
        "\n",
        "history = model.fit(\n",
        "    train_generator,\n",
        "    steps_per_epoch = STEPS_PER_EPOCH, #100,\n",
        "    epochs = EPOCHS,\n",
        "    validation_data = validation_generator,\n",
        "    validation_steps = VALIDATION_STEPS,  #50,\n",
        "    verbose=1)"
      ],
      "execution_count": null,
      "outputs": [
        {
          "output_type": "stream",
          "text": [
            "Epoch 1/5\n",
            "163/163 [==============================] - 156s 946ms/step - loss: 0.6748 - accuracy: 0.7336 - val_loss: 0.4853 - val_accuracy: 0.7385\n",
            "Epoch 2/5\n",
            "163/163 [==============================] - 150s 921ms/step - loss: 0.2411 - accuracy: 0.9124 - val_loss: 0.4809 - val_accuracy: 0.7599\n",
            "Epoch 3/5\n",
            "163/163 [==============================] - 151s 922ms/step - loss: 0.1745 - accuracy: 0.9275 - val_loss: 0.4139 - val_accuracy: 0.8026\n",
            "Epoch 4/5\n",
            "163/163 [==============================] - 151s 925ms/step - loss: 0.1624 - accuracy: 0.9410 - val_loss: 0.4010 - val_accuracy: 0.8043\n",
            "Epoch 5/5\n",
            "163/163 [==============================] - 152s 929ms/step - loss: 0.1464 - accuracy: 0.9447 - val_loss: 0.6471 - val_accuracy: 0.7319\n"
          ],
          "name": "stdout"
        }
      ]
    },
    {
      "cell_type": "markdown",
      "metadata": {
        "id": "JE-26myv7VHJ"
      },
      "source": [
        "###Visualizing the final results \n",
        "\n",
        "accuracy and loss"
      ]
    },
    {
      "cell_type": "code",
      "metadata": {
        "id": "ISdCwjHrxNuh",
        "outputId": "0eb0ac5a-27b4-4d10-f3d5-93c42b67e390"
      },
      "source": [
        "import matplotlib.pyplot as plt\n",
        "\n",
        "acc = history.history['accuracy']   #if you are usinf tf version 1.x then use 'acc' instead of 'accuracy'\n",
        "val_acc = history.history['val_accuracy']\n",
        "loss = history.history['loss']\n",
        "val_loss = history.history['val_loss']\n",
        "\n",
        "epochs = range(len(acc))\n",
        "\n",
        "fig = plt.subplots(figsize=(30, 10))\n",
        "\n",
        "plt.subplot(1, 2, 1)\n",
        "plt.plot(acc)\n",
        "plt.plot(val_acc)\n",
        "plt.title('Training and Validation Accuracy')\n",
        "plt.xlabel('Epoch')\n",
        "plt.ylabel('Accuracy')\n",
        "plt.legend(['Training Accuracy', 'Validation Accuracy'])\n",
        "\n",
        "plt.subplot(1, 2, 2)\n",
        "plt.plot(loss)\n",
        "plt.plot(val_loss)\n",
        "plt.title('Training and Validation Loss')\n",
        "plt.xlabel('Epoch')\n",
        "plt.ylabel('Loss')\n",
        "plt.legend(['Training Loss', 'Validation Loss'])\n",
        "\n",
        "plt.show()\n",
        "\n",
        "\n",
        "# plt.plot(epochs, acc, 'r', \"Training Accuracy\")\n",
        "# plt.plot(epochs, val_acc, 'b', \"Validation accuracy\")\n",
        "# plt.title('ACCURACY')\n",
        "# plt.show()\n",
        "#\n",
        "# plt.plot(epochs, loss, 'r', \"Training loss\")\n",
        "# plt.plot(epochs, val_loss, 'b', \"Validation loss\")\n",
        "# plt.title('LOSS')\n",
        "# plt.show()"
      ],
      "execution_count": null,
      "outputs": [
        {
          "output_type": "display_data",
          "data": {
            "image/png": "[encoded data removed]",
            "text/plain": [
              "<Figure size 2160x720 with 2 Axes>"
            ]
          },
          "metadata": {
            "tags": [],
            "needs_background": "light"
          }
        }
      ]
    },
    {
      "cell_type": "markdown",
      "metadata": {
        "id": "rUZ6YKdb71On"
      },
      "source": [
        "###Evaluting model performance (accuracy) on test data"
      ]
    },
    {
      "cell_type": "code",
      "metadata": {
        "id": "bxm7YEBoxNuj"
      },
      "source": [
        "print(model.evaluate(test_generator))"
      ],
      "execution_count": null,
      "outputs": []
    },
    {
      "cell_type": "markdown",
      "metadata": {
        "id": "1fmYgrAh7_OD"
      },
      "source": [
        "###New Prediction\n",
        "\n",
        "use model for new predictions"
      ]
    },
    {
      "cell_type": "code",
      "metadata": {
        "id": "5VfrsOiQ7_78"
      },
      "source": [
        "#For colab\n",
        "\n",
        "import numpy as np\n",
        "from google.colab import files\n",
        "from keras.preprocessing import image\n",
        "\n",
        "uploaded = files.upload()\n",
        "\n",
        "for fn in uploaded.keys():\n",
        " \n",
        "  # predicting images\n",
        "  path = fn\n",
        "  img = image.load_img(path, target_size = IMAGE_SIZE)\n",
        "  x = image.img_to_array(img)\n",
        "  x = np.expand_dims(x, axis=0)\n",
        "\n",
        "  images = np.vstack([x])\n",
        "  classes = model.predict(images, batch_size=10)\n",
        "  print(fn)\n",
        "  print(classes)"
      ],
      "execution_count": null,
      "outputs": []
    },
    {
      "cell_type": "code",
      "metadata": {
        "id": "Exw85Ymm9eDv"
      },
      "source": [
        "#Other than colab -> Jupyter notebook\n",
        "\n",
        "import numpy as np\n",
        "from keras.preprocessing import image\n",
        "\n",
        "path = '/path_to/_the_image'\n",
        "img = image.load_img(path, target_size = IMAGE_SIZE)\n",
        "x = image.img_to_array(img)\n",
        "x = np.expand_dims(x, axis=0)\n",
        "\n",
        "images = np.vstack([x])\n",
        "classes = model.predict(images, batch_size=10)\n",
        "print(fn)\n",
        "print(classes)"
      ],
      "execution_count": null,
      "outputs": []
    },
    {
      "cell_type": "code",
      "metadata": {
        "id": "aeSG5UoT-WfT"
      },
      "source": [
        ""
      ],
      "execution_count": null,
      "outputs": []
    },
    {
      "cell_type": "markdown",
      "metadata": {
        "id": "jwMNejht-Tm1"
      },
      "source": [
        "You can increase the model performance by increasing number of layers and parameters but you have to take care of overfitting to reduce that you can use various regularization techniques or by augmentation. If using augmentation, keep in mind that we are working on medical data."
      ]
    }
  ]
}